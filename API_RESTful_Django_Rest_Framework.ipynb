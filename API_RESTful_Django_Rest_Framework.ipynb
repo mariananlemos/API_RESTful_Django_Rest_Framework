{
  "nbformat": 4,
  "nbformat_minor": 0,
  "metadata": {
    "colab": {
      "provenance": [],
      "authorship_tag": "ABX9TyON9QI5iUec4mVom8ozORwt",
      "include_colab_link": true
    },
    "kernelspec": {
      "name": "python3",
      "display_name": "Python 3"
    },
    "language_info": {
      "name": "python"
    }
  },
  "cells": [
    {
      "cell_type": "markdown",
      "metadata": {
        "id": "view-in-github",
        "colab_type": "text"
      },
      "source": [
        "<a href=\"https://colab.research.google.com/github/mariananlemos/API_RESTful_Django_Rest_Framework/blob/main/API_RESTful_Django_Rest_Framework.ipynb\" target=\"_parent\"><img src=\"https://colab.research.google.com/assets/colab-badge.svg\" alt=\"Open In Colab\"/></a>"
      ]
    },
    {
      "cell_type": "code",
      "source": [
        "Criando e modelando a app pontos turísticos"
      ],
      "metadata": {
        "id": "MK8-uz2Ti53F"
      },
      "execution_count": null,
      "outputs": []
    },
    {
      "cell_type": "code",
      "execution_count": null,
      "metadata": {
        "id": "am2cn94XxcPh"
      },
      "outputs": [],
      "source": [
        "##Criando e modelando a app pontos turísticos:\n",
        "\n",
        "#api\n",
        "#settings\n",
        "#installed apps\n",
        "\n",
        "#models\n",
        "from django.db import models\n",
        "\n",
        "class PontoTuristico(models.Model):\n",
        "  nome = models.Charfield(max_length=150)\n",
        "  descricao = models.TextField()\n",
        "  aprovado = models.BooleanField()\n",
        "  atracoes = models.ManyToManyField(Atracao)\n",
        "  comentarios = models.ManyToManyField(Comentario)\n",
        "\n",
        "  def __str__(self):\n",
        "    return self.nome\n",
        "\n",
        "\n",
        "##admin\n",
        "#from django.contrib import admin\n",
        "#from .models import PontoTuristico\n",
        "\n",
        "#admin.site.register(PontoTuristico)"
      ]
    },
    {
      "cell_type": "markdown",
      "source": [
        "Criando e modelando a app de Atrações"
      ],
      "metadata": {
        "id": "3tS2c_1zfZdD"
      }
    },
    {
      "cell_type": "code",
      "source": [
        "from django.db import models\n",
        "\n",
        "class Atracao(models.Model):\n",
        "  nome = models.Charfield(max_length=150)\n",
        "  descricao = models.TextField()\n",
        "  horario_func = models.TextField()\n",
        "  idade_minima = models.IntegerField()\n",
        "\n",
        "  def __str__(self):\n",
        "    return self.nome\n",
        "  \n",
        "  ##admin\n",
        "#from django.contrib import admin\n",
        "#from .models import Atracao\n",
        "\n",
        "#admin.site.register(Atracao)"
      ],
      "metadata": {
        "id": "VggNTJhs378_"
      },
      "execution_count": null,
      "outputs": []
    },
    {
      "cell_type": "code",
      "source": [
        "Criando e modelando a app de comentários e avaliações"
      ],
      "metadata": {
        "id": "QzNoFW_ei_Ke"
      },
      "execution_count": null,
      "outputs": []
    },
    {
      "cell_type": "code",
      "source": [
        "from django.contrib.auth.models import User\n",
        "from django.db import models\n",
        "\n",
        "class Comentario(models.Model):\n",
        "  usuario = models.ForeignKey(User, on_delete=models.CASCADE)\n",
        "  comentario = models.TextField()\n",
        "  data = models.DateTimeField(auto_now_add=True)\n",
        "  aprovado = models.BooleanField(default=True)\n",
        "\n",
        "  def __str__(self):\n",
        "    return self.usuario.username\n",
        "  \n",
        "  ##admin\n",
        "#from django.contrib import admin\n",
        "#from .models import Comentario\n",
        "\n",
        "#admin.site.register(Comentario)"
      ],
      "metadata": {
        "id": "T8fAVAeG_rb-"
      },
      "execution_count": null,
      "outputs": []
    },
    {
      "cell_type": "code",
      "source": [
        "from django.db from models\n",
        "\n",
        "class Avaliacao(models.Model):\n",
        "  user = models.ForeignKey(User, on_delete=models.CASCADE)\n",
        "  comentario = models.TextField(null=True, blank=True)\n",
        "  nota = models.DecimalField(max_digity=3, decimal_places=2)\n",
        "  data = models.DateTimeFiel(auto_now_add=True)\n",
        "\n",
        "  def __str__(self):\n",
        "    return self.user.username"
      ],
      "metadata": {
        "id": "cgj5iJYIfas3"
      },
      "execution_count": null,
      "outputs": []
    },
    {
      "cell_type": "markdown",
      "source": [
        "Criando e modelando a app de Localização"
      ],
      "metadata": {
        "id": "iU36pFj6jFlI"
      }
    },
    {
      "cell_type": "code",
      "source": [
        "from django.db from models\n",
        "class Endereco(models.Model):\n",
        "  linha1 = models.Charfield(max_length=150)\n",
        "  linha2 = models.Charfield(max_length=150)\n",
        "  aprovado = models.BooleanField(default=True)\n",
        "  atracoes = models.ManyToManyField(Atracao)\n",
        "  comentarios = models.ManyToManyField(Comentario)\n",
        "  avaliacoes = models.ManyToManyField(Avaliacao)\n",
        "  endereco = models.ForeignKey(Endereco, on_delete=models.CASCADE)\n",
        "\n",
        "  def __str__(self):\n",
        "    return self.nome"
      ],
      "metadata": {
        "id": "4tc8tlEkjMuB"
      },
      "execution_count": null,
      "outputs": []
    },
    {
      "cell_type": "markdown",
      "source": [
        "Primeiros passos da API"
      ],
      "metadata": {
        "id": "QIWh6YbxBXKY"
      }
    },
    {
      "cell_type": "code",
      "source": [
        "#viewset\n",
        "from rest_framework.serializers import ModelSerializer\n",
        "from core.models import PontoTuristico\n",
        "\n",
        "class AccountViewSet(viewsets.ModelViewSet):\n",
        "  queryset = PontoTuristico.objects.all()\n",
        "  serializer_class = PontoTuristicoSerializer"
      ],
      "metadata": {
        "id": "IAFEVLQ4Fo01"
      },
      "execution_count": null,
      "outputs": []
    },
    {
      "cell_type": "code",
      "source": [
        "from rest_framework.serializers import ModelSerializer\n",
        "from core.models import PontoTuristico\n",
        "from .serializers import PontoTuristicoSerializer\n",
        "\n",
        "class PontoTuristicoSerializer(serializers.ModelSerializer):\n",
        "  class Meta:\n",
        "    model = Account\n",
        "    fields = ('id', 'nome', 'descricao')"
      ],
      "metadata": {
        "id": "JdSDu4xFGwtt"
      },
      "execution_count": null,
      "outputs": []
    },
    {
      "cell_type": "code",
      "source": [
        "from django.contrib import admin\n",
        "from django.conf.urls import include\n",
        "from django.urls import path\n",
        "from rest_framework import routers\n",
        "from core.api.viewsets import PontoTuristicoViewSet\n",
        "\n",
        "router = routers.DefaultRouter()\n",
        "router.register(f'pontoturistico', PontoTuristico)\n",
        "\n",
        "urlspatterns = [\n",
        "    path('', include(router.urls)),\n",
        "    path('admin/', admin.site.urls)\n",
        "]"
      ],
      "metadata": {
        "id": "-XQZlJt3BbMh"
      },
      "execution_count": null,
      "outputs": []
    },
    {
      "cell_type": "code",
      "source": [
        "from django.contrib import admin\n",
        "from .models import Atracao\n",
        "\n",
        "admin.site.register(Atracao)"
      ],
      "metadata": {
        "id": "x7ltdi0UBpkr"
      },
      "execution_count": null,
      "outputs": []
    },
    {
      "cell_type": "code",
      "source": [
        "from django.apps import AppConfig\n",
        "\n",
        "\n",
        "class AtracoesConfig(AppConfig):\n",
        "    name = 'atracoes'"
      ],
      "metadata": {
        "id": "-rYYI5vfBp-H"
      },
      "execution_count": null,
      "outputs": []
    },
    {
      "cell_type": "code",
      "source": [
        "from django.db import models\n",
        "\n",
        "\n",
        "class Atracao(models.Model):\n",
        "    nome = models.CharField(max_length=150)\n",
        "    descricao = models.TextField()\n",
        "    horario_func = models.TextField()\n",
        "    idade_minima = models.IntegerField()\n",
        "    foto = models.ImageField(upload_to='atracoes', null=True, blank=True)\n",
        "    observacoes = models.CharField(max_length=50, null=True, blank=True)\n",
        "\n",
        "    def __str__(self):\n",
        "        return self.nome"
      ],
      "metadata": {
        "id": "zPbAgd9DBsBB"
      },
      "execution_count": null,
      "outputs": []
    },
    {
      "cell_type": "code",
      "source": [
        "from django.test import TestCase"
      ],
      "metadata": {
        "id": "icNTZ6xQBy9J"
      },
      "execution_count": null,
      "outputs": []
    },
    {
      "cell_type": "code",
      "source": [
        "from django.shortcuts import render"
      ],
      "metadata": {
        "id": "GIT77_ucB0py"
      },
      "execution_count": null,
      "outputs": []
    },
    {
      "cell_type": "code",
      "source": [
        "from django.db import migrations, models\n",
        "\n",
        "\n",
        "class Migration(migrations.Migration):\n",
        "\n",
        "    initial = True\n",
        "\n",
        "    dependencies = [\n",
        "    ]\n",
        "\n",
        "    operations = [\n",
        "        migrations.CreateModel(\n",
        "            name='Atracao',\n",
        "            fields=[\n",
        "                ('id', models.AutoField(auto_created=True, primary_key=True, serialize=False, verbose_name='ID')),\n",
        "                ('nome', models.CharField(max_length=150)),\n",
        "                ('descricao', models.TextField()),\n",
        "                ('horario_func', models.TextField()),\n",
        "                ('idade_minima', models.IntegerField()),\n",
        "            ],\n",
        "        ),\n",
        "    ]"
      ],
      "metadata": {
        "id": "-RxjZnnlB4aw"
      },
      "execution_count": null,
      "outputs": []
    },
    {
      "cell_type": "code",
      "source": [
        "from django.db import migrations, models\n",
        "\n",
        "\n",
        "class Migration(migrations.Migration):\n",
        "\n",
        "    dependencies = [\n",
        "        ('atracoes', '0001_initial'),\n",
        "    ]\n",
        "\n",
        "    operations = [\n",
        "        migrations.AddField(\n",
        "            model_name='atracao',\n",
        "            name='foto',\n",
        "            field=models.ImageField(blank=True, null=True, upload_to='atracoes'),\n",
        "        ),\n",
        "    ]"
      ],
      "metadata": {
        "id": "Jxkj3sEACHkU"
      },
      "execution_count": null,
      "outputs": []
    },
    {
      "cell_type": "code",
      "source": [
        "from django.db import migrations, models\n",
        "\n",
        "\n",
        "class Migration(migrations.Migration):\n",
        "\n",
        "    dependencies = [\n",
        "        ('atracoes', '0002_atracao_foto'),\n",
        "    ]\n",
        "\n",
        "    operations = [\n",
        "        migrations.AddField(\n",
        "            model_name='atracao',\n",
        "            name='observacoes',\n",
        "            field=models.CharField(blank=True, max_length=50, null=True),\n",
        "        ),\n",
        "    ]"
      ],
      "metadata": {
        "id": "IPg2_kX6CK7u"
      },
      "execution_count": null,
      "outputs": []
    },
    {
      "cell_type": "code",
      "source": [
        "from django.contrib import admin\n",
        "from .models import Atracao\n",
        "\n",
        "admin.site.register(Atracao)"
      ],
      "metadata": {
        "id": "g5JGWljkCMgA"
      },
      "execution_count": null,
      "outputs": []
    },
    {
      "cell_type": "code",
      "source": [
        "from django.apps import AppConfig\n",
        "\n",
        "\n",
        "class AtracoesConfig(AppConfig):\n",
        "    name = 'atracoes'"
      ],
      "metadata": {
        "id": "iZtPZQ7NCRFQ"
      },
      "execution_count": null,
      "outputs": []
    },
    {
      "cell_type": "code",
      "source": [
        "from django.db import models\n",
        "\n",
        "\n",
        "class Atracao(models.Model):\n",
        "    nome = models.CharField(max_length=150)\n",
        "    descricao = models.TextField()\n",
        "    horario_func = models.TextField()\n",
        "    idade_minima = models.IntegerField()\n",
        "    foto = models.ImageField(upload_to='atracoes', null=True, blank=True)\n",
        "    observacoes = models.CharField(max_length=50, null=True, blank=True)\n",
        "\n",
        "    def __str__(self):\n",
        "        return self.nome"
      ],
      "metadata": {
        "id": "c6bsWtTOCSuJ"
      },
      "execution_count": null,
      "outputs": []
    },
    {
      "cell_type": "code",
      "source": [
        "from rest_framework.serializers import ModelSerializer\n",
        "from atracoes.models import Atracao\n",
        "\n",
        "\n",
        "class AtracaoSerializer(ModelSerializer):\n",
        "    class Meta:\n",
        "        model = Atracao\n",
        "        fields = (\n",
        "            'id', 'nome', 'descricao', 'horario_func', 'idade_minima', 'foto')"
      ],
      "metadata": {
        "id": "KZNhh1WLCmuc"
      },
      "execution_count": null,
      "outputs": []
    },
    {
      "cell_type": "code",
      "source": [
        "from django_filters.rest_framework import DjangoFilterBackend\n",
        "from rest_framework.viewsets import ModelViewSet\n",
        "from atracoes.models import Atracao\n",
        "from .serializers import AtracaoSerializer\n",
        "\n",
        "\n",
        "class AtracaoViewSet(ModelViewSet):\n",
        "    queryset = Atracao.objects.all()\n",
        "    serializer_class = AtracaoSerializer\n",
        "    filter_backends = (DjangoFilterBackend,)\n",
        "    filter_fields = ('nome', 'descricao')"
      ],
      "metadata": {
        "id": "nDkgyBCKCnGr"
      },
      "execution_count": null,
      "outputs": []
    },
    {
      "cell_type": "code",
      "source": [
        "import os\n",
        "import sys\n",
        "\n",
        "if __name__ == \"__main__\":\n",
        "    os.environ.setdefault(\"DJANGO_SETTINGS_MODULE\", \"pontos_turisticos.settings\")\n",
        "    try:\n",
        "        from django.core.management import execute_from_command_line\n",
        "    except ImportError as exc:\n",
        "        raise ImportError(\n",
        "            \"Couldn't import Django. Are you sure it's installed and \"\n",
        "            \"available on your PYTHONPATH environment variable? Did you \"\n",
        "            \"forget to activate a virtual environment?\"\n",
        "        ) from exc\n",
        "    execute_from_command_line(sys.argv)"
      ],
      "metadata": {
        "id": "bikFiHOnCpcj"
      },
      "execution_count": null,
      "outputs": []
    },
    {
      "cell_type": "code",
      "source": [
        "from django.contrib import admin\n",
        "from .models import Endereco\n",
        "\n",
        "\n",
        "admin.site.register(Endereco)"
      ],
      "metadata": {
        "id": "b9-KrAuFDlXJ"
      },
      "execution_count": null,
      "outputs": []
    },
    {
      "cell_type": "code",
      "source": [
        "from django.apps import AppConfig\n",
        "\n",
        "\n",
        "class EnderecosConfig(AppConfig):\n",
        "    name = 'enderecos'"
      ],
      "metadata": {
        "id": "DpwEonHyEH-m"
      },
      "execution_count": null,
      "outputs": []
    },
    {
      "cell_type": "code",
      "source": [
        "from django.db import models\n",
        "\n",
        "\n",
        "class Endereco(models.Model):\n",
        "    linha1 = models.CharField(max_length=150)\n",
        "    linha2 = models.CharField(max_length=150, null=True, blank=True)\n",
        "    cidade = models.CharField(max_length=100)\n",
        "    estado = models.CharField(max_length=50)\n",
        "    pais = models.CharField(max_length=70)\n",
        "    latitude = models.IntegerField(null=True, blank=True)\n",
        "    longitude = models.IntegerField(null=True, blank=True)\n",
        "\n",
        "    def __str__(self):\n",
        "        return self.linha1"
      ],
      "metadata": {
        "id": "MtiNGZ0iEKFd"
      },
      "execution_count": null,
      "outputs": []
    },
    {
      "cell_type": "code",
      "source": [
        "from django.contrib import admin\n",
        "from .models import PontoTuristico\n",
        "from .models import DocIdentificacao\n",
        "\n",
        "admin.site.register(PontoTuristico)\n",
        "admin.site.register(DocIdentificacao)"
      ],
      "metadata": {
        "id": "uuGl_I-qEMUJ"
      },
      "execution_count": null,
      "outputs": []
    },
    {
      "cell_type": "code",
      "source": [
        "from django.apps import AppConfig\n",
        "\n",
        "\n",
        "class CoreConfig(AppConfig):\n",
        "    name = 'core'"
      ],
      "metadata": {
        "id": "lP10VqjeEWga"
      },
      "execution_count": null,
      "outputs": []
    },
    {
      "cell_type": "code",
      "source": [
        "from django.contrib import admin\n",
        "from .models import Comentario\n",
        "\n",
        "\n",
        "admin.site.register(Comentario)"
      ],
      "metadata": {
        "id": "18obsjMXEXxf"
      },
      "execution_count": null,
      "outputs": []
    },
    {
      "cell_type": "code",
      "source": [
        "from django.apps import AppConfig\n",
        "\n",
        "\n",
        "class ComentariosConfig(AppConfig):\n",
        "    name = 'comentarios'"
      ],
      "metadata": {
        "id": "BvlYm-vYEdyp"
      },
      "execution_count": null,
      "outputs": []
    },
    {
      "cell_type": "code",
      "source": [
        "from django.contrib.auth.models import User\n",
        "from django.db import models\n",
        "\n",
        "\n",
        "class Comentario(models.Model):\n",
        "    usuario = models.ForeignKey(User, on_delete=models.CASCADE)\n",
        "    comentario = models.TextField()\n",
        "    data = models.DateTimeField(auto_now_add=True)\n",
        "    aprovado = models.BooleanField(default=True)\n",
        "\n",
        "    def __str__(self):\n",
        "        return self.usuario.username"
      ],
      "metadata": {
        "id": "xH2kxBfzEfMb"
      },
      "execution_count": null,
      "outputs": []
    },
    {
      "cell_type": "code",
      "source": [
        "from django.contrib import admin\n",
        "from .models import Avaliacao\n",
        "\n",
        "\n",
        "admin.site.register(Avaliacao)"
      ],
      "metadata": {
        "id": "G-qm8Tl0Egrt"
      },
      "execution_count": null,
      "outputs": []
    },
    {
      "cell_type": "code",
      "source": [
        "from django.apps import AppConfig\n",
        "\n",
        "\n",
        "class AvaliacoesConfig(AppConfig):\n",
        "    name = 'avaliacoes'"
      ],
      "metadata": {
        "id": "U-rYpOQ-EqTR"
      },
      "execution_count": null,
      "outputs": []
    },
    {
      "cell_type": "code",
      "source": [
        "from django.contrib.auth.models import User\n",
        "from django.db import models\n",
        "\n",
        "\n",
        "class Avaliacao(models.Model):\n",
        "    user = models.ForeignKey(User, on_delete=models.CASCADE)\n",
        "    comentario = models.TextField(null=True, blank=True)\n",
        "    nota = models.DecimalField(max_digits=3, decimal_places=2)\n",
        "    data = models.DateTimeField(auto_now_add=True)\n",
        "\n",
        "    def __str__(self):\n",
        "        return self.user.username"
      ],
      "metadata": {
        "id": "dqeN0v3AErrp"
      },
      "execution_count": null,
      "outputs": []
    }
  ]
}